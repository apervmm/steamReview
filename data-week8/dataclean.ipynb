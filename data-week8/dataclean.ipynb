{
 "cells": [
  {
   "cell_type": "code",
   "execution_count": 1,
   "metadata": {},
   "outputs": [
    {
     "name": "stdout",
     "output_type": "stream",
     "text": [
      "recommendationid: int64\n",
      "appid: int64\n",
      "author_steamid: int64\n",
      "author_playtime_at_review: int64\n",
      "author_last_played: int64\n",
      "language: string\n",
      "timestamp_created: timestamp[ns]\n",
      "votes_up: int64\n",
      "votes_funny: int64\n",
      "weighted_vote_score: double\n",
      "comment_count: int64\n",
      "steam_purchase: int64\n",
      "received_for_free: int64\n",
      "written_during_early_access: int64\n",
      "-- schema metadata --\n",
      "pandas: '{\"index_columns\": [], \"column_indexes\": [], \"columns\": [{\"name\":' + 1876\n"
     ]
    }
   ],
   "source": [
    "import pyarrow.parquet as pq\n",
    "\n",
    "reviews = \"../reviews.parquet\"\n",
    "\n",
    "pf = pq.ParquetFile(reviews)\n",
    "print(pf.schema_arrow)\n"
   ]
  },
  {
   "cell_type": "code",
   "execution_count": 2,
   "metadata": {},
   "outputs": [
    {
     "name": "stdout",
     "output_type": "stream",
     "text": [
      "appid: int64\n",
      "game: string\n",
      "-- schema metadata --\n",
      "pandas: '{\"index_columns\": [], \"column_indexes\": [], \"columns\": [{\"name\":' + 290\n"
     ]
    }
   ],
   "source": [
    "games = \"../games.parquet\"\n",
    "gf = pq.ParquetFile(games)\n",
    "print(gf.schema_arrow)"
   ]
  }
 ],
 "metadata": {
  "kernelspec": {
   "display_name": ".venv",
   "language": "python",
   "name": "python3"
  },
  "language_info": {
   "codemirror_mode": {
    "name": "ipython",
    "version": 3
   },
   "file_extension": ".py",
   "mimetype": "text/x-python",
   "name": "python",
   "nbconvert_exporter": "python",
   "pygments_lexer": "ipython3",
   "version": "3.13.2"
  }
 },
 "nbformat": 4,
 "nbformat_minor": 2
}
