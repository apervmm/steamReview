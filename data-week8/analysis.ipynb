{
 "cells": [
  {
   "cell_type": "code",
   "execution_count": null,
   "metadata": {},
   "outputs": [],
   "source": [
    "import duckdb\n",
    "import pyarrow.parquet as pq\n",
    "import pandas as pd"
   ]
  },
  {
   "cell_type": "code",
   "execution_count": null,
   "metadata": {},
   "outputs": [
    {
     "name": "stdout",
     "output_type": "stream",
     "text": [
      "recommendationid: int64\n",
      "appid: int64\n",
      "author_steamid: int64\n",
      "author_playtime_at_review: int64\n",
      "author_last_played: int64\n",
      "language: string\n",
      "timestamp_created: timestamp[ns]\n",
      "votes_up: int64\n",
      "votes_funny: int64\n",
      "weighted_vote_score: double\n",
      "comment_count: int64\n",
      "steam_purchase: int64\n",
      "received_for_free: int64\n",
      "written_during_early_access: int64\n",
      "-- schema metadata --\n",
      "pandas: '{\"index_columns\": [], \"column_indexes\": [], \"columns\": [{\"name\":' + 1876\n"
     ]
    }
   ],
   "source": [
    "reviews = \"../reviews.parquet\"\n",
    "\n",
    "pRev = pq.ParquetFile(reviews)\n",
    "revSchema = pRev.schema_arrow\n",
    "print(revSchema)\n"
   ]
  },
  {
   "cell_type": "code",
   "execution_count": 28,
   "metadata": {},
   "outputs": [
    {
     "name": "stdout",
     "output_type": "stream",
     "text": [
      "appid: int64\n",
      "game: string\n",
      "-- schema metadata --\n",
      "pandas: '{\"index_columns\": [], \"column_indexes\": [], \"columns\": [{\"name\":' + 290\n"
     ]
    }
   ],
   "source": [
    "games = \"../games.parquet\"\n",
    "pGames = pq.ParquetFile(games)\n",
    "gamesSchema = pGames.schema_arrow\n",
    "print(gamesSchema)"
   ]
  },
  {
   "cell_type": "code",
   "execution_count": 29,
   "metadata": {},
   "outputs": [
    {
     "name": "stdout",
     "output_type": "stream",
     "text": [
      "   recommendationid   appid     author_steamid  author_playtime_at_review  \\\n",
      "0          61858151  105450  76561198095427016                         74   \n",
      "1          61858130  105450  76561198367517870                       5972   \n",
      "2          61857258  105450  76561198202501564                      15604   \n",
      "3          61855517  105450  76561199014804619                        783   \n",
      "4          61855022  105450  76561198147562649                         42   \n",
      "5          61854906  105450  76561198274390926                      67134   \n",
      "6          61851893  105450  76561198858100402                       1829   \n",
      "7          61848535  105450  76561198818482403                      11231   \n",
      "8          61844535  105450  76561198008998762                       1604   \n",
      "9          61838163  105450  76561198207761347                        307   \n",
      "\n",
      "   author_last_played    language   timestamp_created  votes_up  votes_funny  \\\n",
      "0          1590676756     english 2020-01-14 20:39:20         0            0   \n",
      "1          1695133355       dutch 2020-01-14 20:38:52         0            0   \n",
      "2          1609180410       dutch 2020-01-14 20:13:17         0            2   \n",
      "3          1582358246     spanish 2020-01-14 19:23:43         0            0   \n",
      "4          1698266197     spanish 2020-01-14 19:10:15         0            0   \n",
      "5          1591135485      french 2020-01-14 19:07:00         0            0   \n",
      "6          1615654446     english 2020-01-14 17:46:37         0            0   \n",
      "7          1605724304     english 2020-01-14 16:17:29         0            0   \n",
      "8          1604533142  portuguese 2020-01-14 14:35:17         1            0   \n",
      "9          1605055668   brazilian 2020-01-14 11:27:12         0            0   \n",
      "\n",
      "   weighted_vote_score  comment_count  steam_purchase  received_for_free  \\\n",
      "0              0.00000              0               1                  0   \n",
      "1              0.00000              0               1                  0   \n",
      "2              0.00000              0               0                  0   \n",
      "3              0.00000              0               1                  0   \n",
      "4              0.00000              0               1                  0   \n",
      "5              0.00000              0               1                  0   \n",
      "6              0.00000              0               1                  0   \n",
      "7              0.00000              0               0                  0   \n",
      "8              0.52381              0               1                  0   \n",
      "9              0.00000              0               1                  0   \n",
      "\n",
      "   written_during_early_access  appid_1                        game  \n",
      "0                            0   105450  Age of Empires® III (2007)  \n",
      "1                            0   105450  Age of Empires® III (2007)  \n",
      "2                            0   105450  Age of Empires® III (2007)  \n",
      "3                            0   105450  Age of Empires® III (2007)  \n",
      "4                            0   105450  Age of Empires® III (2007)  \n",
      "5                            0   105450  Age of Empires® III (2007)  \n",
      "6                            0   105450  Age of Empires® III (2007)  \n",
      "7                            0   105450  Age of Empires® III (2007)  \n",
      "8                            0   105450  Age of Empires® III (2007)  \n",
      "9                            0   105450  Age of Empires® III (2007)  \n"
     ]
    }
   ],
   "source": [
    "con = duckdb.connect()\n",
    "\n",
    "\n",
    "query = f\"\"\"\n",
    "    SELECT *\n",
    "    FROM '{reviews}' AS r\n",
    "    JOIN '{games}' AS g\n",
    "    ON r.appid = g.appid\n",
    "    LIMIT 10\n",
    "\"\"\"\n",
    "\n",
    "first10= con.execute(query).fetchdf()\n",
    "\n",
    "print(first10)\n"
   ]
  },
  {
   "cell_type": "code",
   "execution_count": 53,
   "metadata": {},
   "outputs": [
    {
     "name": "stdout",
     "output_type": "stream",
     "text": [
      "103167\n"
     ]
    }
   ],
   "source": [
    "countr = f\"\"\"\n",
    "    SELECT COUNT(distinct appid) AS total_reviews\n",
    "    FROM '{reviews}'\n",
    "\"\"\"\n",
    "df_reviews_count = con.execute(countr).fetchdf()\n",
    "print(df_reviews_count[\"total_reviews\"][0])"
   ]
  },
  {
   "cell_type": "code",
   "execution_count": 31,
   "metadata": {},
   "outputs": [
    {
     "name": "stdout",
     "output_type": "stream",
     "text": [
      "105893\n"
     ]
    }
   ],
   "source": [
    "countg = f\"\"\"\n",
    "    SELECT COUNT(*) AS unique_games\n",
    "    FROM '{games}'\n",
    "\"\"\"\n",
    "game_apid = con.execute(countg).fetchdf()\n",
    "print(game_apid[\"unique_games\"][0])"
   ]
  },
  {
   "cell_type": "code",
   "execution_count": 32,
   "metadata": {},
   "outputs": [
    {
     "name": "stdout",
     "output_type": "stream",
     "text": [
      "105206\n"
     ]
    }
   ],
   "source": [
    "countg = f\"\"\"\n",
    "    SELECT COUNT(DISTINCT game) AS unique_games\n",
    "    FROM '{games}'\n",
    "\"\"\"\n",
    "games_count = con.execute(countg).fetchdf()\n",
    "print(games_count[\"unique_games\"][0])"
   ]
  },
  {
   "cell_type": "code",
   "execution_count": 33,
   "metadata": {},
   "outputs": [
    {
     "name": "stdout",
     "output_type": "stream",
     "text": [
      "             game  distinct_appids\n",
      "0            None               68\n",
      "1           Alone                6\n",
      "2          Aurora                6\n",
      "3          Escape                6\n",
      "4            Lost                4\n",
      "5   Hide and Seek                4\n",
      "6         Requiem                4\n",
      "7        Parasite                4\n",
      "8          Bounce                4\n",
      "9  Space Survival                4\n"
     ]
    }
   ],
   "source": [
    "dupes = f\"\"\"\n",
    "    SELECT\n",
    "        game,\n",
    "        COUNT(DISTINCT appid) AS distinct_appids\n",
    "    FROM '{games}'\n",
    "    GROUP BY game\n",
    "    HAVING COUNT(DISTINCT appid) > 1\n",
    "    ORDER BY distinct_appids DESC\n",
    "    LIMIT 10;\n",
    "\"\"\"\n",
    "qdupes = con.execute(dupes).fetchdf()\n",
    "print(qdupes)"
   ]
  },
  {
   "cell_type": "code",
   "execution_count": 44,
   "metadata": {},
   "outputs": [],
   "source": [
    "parq = \"rev.parquet\""
   ]
  },
  {
   "cell_type": "code",
   "execution_count": 45,
   "metadata": {},
   "outputs": [
    {
     "name": "stdout",
     "output_type": "stream",
     "text": [
      "recommendationid: int64\n",
      "game: string\n",
      "author_steamid: int64\n",
      "author_playtime_at_review: int64\n",
      "author_last_played: int64\n",
      "language: string\n",
      "timestamp_created: timestamp[ns]\n",
      "votes_up: int64\n",
      "votes_funny: int64\n",
      "weighted_vote_score: double\n",
      "comment_count: int64\n",
      "steam_purchase: int64\n",
      "received_for_free: int64\n",
      "written_during_early_access: int64\n",
      "-- schema metadata --\n",
      "pandas: '{\"index_columns\": [], \"column_indexes\": [], \"columns\": [{\"name\":' + 1877\n"
     ]
    }
   ],
   "source": [
    "revp = pq.ParquetFile(parq).schema_arrow\n",
    "print(revp)"
   ]
  },
  {
   "cell_type": "code",
   "execution_count": 51,
   "metadata": {},
   "outputs": [
    {
     "name": "stdout",
     "output_type": "stream",
     "text": [
      "   recommendationid            game     author_steamid  \\\n",
      "0         148919893  Counter-Strike  76561199036724879   \n",
      "1         148919350  Counter-Strike  76561198826729322   \n",
      "2         148913051  Counter-Strike  76561199101237625   \n",
      "3         148912714  Counter-Strike  76561198347582422   \n",
      "4         148912575  Counter-Strike  76561198363716821   \n",
      "5         148906148  Counter-Strike  76561198198293481   \n",
      "6         148905699  Counter-Strike  76561198820122182   \n",
      "7         148900627  Counter-Strike  76561198346217916   \n",
      "8         148899121  Counter-Strike  76561199143791757   \n",
      "9         148898785  Counter-Strike  76561198853145449   \n",
      "\n",
      "   author_playtime_at_review  author_last_played  language  \\\n",
      "0                        197          1698336369   russian   \n",
      "1                        441          1698335809   russian   \n",
      "2                       1313          1698338635   turkish   \n",
      "3                       1612          1698341834   russian   \n",
      "4                        197          1698329401   english   \n",
      "5                       1649          1698323046   russian   \n",
      "6                         11          1695752100   turkish   \n",
      "7                      45119          1698157431   russian   \n",
      "8                       1202          1698338304   russian   \n",
      "9                        721          1660831719  schinese   \n",
      "\n",
      "    timestamp_created  votes_up  votes_funny  weighted_vote_score  \\\n",
      "0 2023-10-26 16:06:37         0            0                  0.0   \n",
      "1 2023-10-26 15:57:01         0            0                  0.0   \n",
      "2 2023-10-26 14:17:42         0            0                  0.0   \n",
      "3 2023-10-26 14:12:35         0            0                  0.0   \n",
      "4 2023-10-26 14:10:19         0            0                  0.0   \n",
      "5 2023-10-26 12:04:00         0            0                  0.0   \n",
      "6 2023-10-26 11:54:19         0            0                  0.0   \n",
      "7 2023-10-26 10:00:19         0            0                  0.0   \n",
      "8 2023-10-26 09:21:00         0            0                  0.0   \n",
      "9 2023-10-26 09:10:51         0            0                  0.0   \n",
      "\n",
      "   comment_count  steam_purchase  received_for_free  \\\n",
      "0              0               1                  0   \n",
      "1              0               1                  0   \n",
      "2              0               1                  0   \n",
      "3              0               1                  0   \n",
      "4              0               1                  0   \n",
      "5              0               1                  0   \n",
      "6              0               0                  0   \n",
      "7              0               1                  0   \n",
      "8              0               1                  0   \n",
      "9              0               1                  0   \n",
      "\n",
      "   written_during_early_access  \n",
      "0                            0  \n",
      "1                            0  \n",
      "2                            0  \n",
      "3                            0  \n",
      "4                            0  \n",
      "5                            0  \n",
      "6                            0  \n",
      "7                            0  \n",
      "8                            0  \n",
      "9                            0  \n"
     ]
    }
   ],
   "source": [
    "pquery = f\"\"\"\n",
    "    SELECT *\n",
    "    FROM '{parq}'\n",
    "    LIMIT 10\n",
    "\"\"\"\n",
    "\n",
    "f10=con.execute(pquery).fetchdf()\n",
    "\n",
    "print(f10)"
   ]
  },
  {
   "cell_type": "code",
   "execution_count": 52,
   "metadata": {},
   "outputs": [
    {
     "name": "stdout",
     "output_type": "stream",
     "text": [
      "102513\n"
     ]
    }
   ],
   "source": [
    "ugames = f\"\"\"\n",
    "    SELECT COUNT(DISTINCT game) AS unique_games\n",
    "    FROM '{parq}'\n",
    "\"\"\"\n",
    "unique_games = con.execute(ugames).fetchdf()\n",
    "print(unique_games[\"unique_games\"][0])"
   ]
  },
  {
   "cell_type": "code",
   "execution_count": 60,
   "metadata": {},
   "outputs": [
    {
     "name": "stdout",
     "output_type": "stream",
     "text": [
      "   missing_game  empty_game\n",
      "0          5266           0\n"
     ]
    }
   ],
   "source": [
    "\n",
    "\n",
    "query = f\"\"\"\n",
    "    SELECT COUNT(*) FILTER (WHERE game IS NULL) AS missing_game,\n",
    "    COUNT(*) FILTER (WHERE game = '') AS empty_game\n",
    "    FROM '{parq}'\n",
    "\"\"\"\n",
    "\n",
    "res = con.execute(query).fetchdf()\n",
    "print(res)\n"
   ]
  },
  {
   "cell_type": "code",
   "execution_count": 62,
   "metadata": {},
   "outputs": [
    {
     "name": "stdout",
     "output_type": "stream",
     "text": [
      "   recommendationid  game     author_steamid  author_playtime_at_review  \\\n",
      "0          84555529  None  76561197971905574                        103   \n",
      "1          66663227  None  76561198047671566                         72   \n",
      "2          64124201  None  76561197970265034                        121   \n",
      "3          56306807  None  76561197994407206                         68   \n",
      "4          55664796  None  76561197974522156                         23   \n",
      "5          53814851  None  76561198338012436                        171   \n",
      "6          51837192  None  76561198149884953                         80   \n",
      "7          51522225  None  76561198031466665                        259   \n",
      "8          51019577  None  76561198122973075                        300   \n",
      "9          50907952  None  76561198966624917                        122   \n",
      "\n",
      "   author_last_played language   timestamp_created  votes_up  votes_funny  \\\n",
      "0          1610462658  english 2021-01-12 15:04:47         1            0   \n",
      "1          1586040235  spanish 2020-04-05 10:50:23         0            0   \n",
      "2          1582681326  english 2020-02-26 01:51:46         0            0   \n",
      "3          1572716522  english 2019-11-02 17:45:45         2            0   \n",
      "4          1571382193  english 2019-10-19 06:07:18        12            0   \n",
      "5          1563107264  spanish 2019-07-06 16:52:19         1            0   \n",
      "6          1561147818   german 2019-06-29 10:23:17         2            0   \n",
      "7          1561004334  english 2019-06-28 10:42:11         8            0   \n",
      "8          1559493629  italian 2019-06-02 19:28:26         3            0   \n",
      "9          1559559791  english 2019-05-28 12:26:39         6            0   \n",
      "\n",
      "   weighted_vote_score  comment_count  steam_purchase  received_for_free  \\\n",
      "0             0.000000              0               1                  0   \n",
      "1             0.000000              0               1                  0   \n",
      "2             0.000000              0               1                  0   \n",
      "3             0.503088              1               1                  0   \n",
      "4             0.352664              0               0                  1   \n",
      "5             0.000000              0               1                  0   \n",
      "6             0.472973              0               0                  1   \n",
      "7             0.577118              0               1                  0   \n",
      "8             0.000000              0               1                  0   \n",
      "9             0.524542              0               1                  0   \n",
      "\n",
      "   written_during_early_access  \n",
      "0                            0  \n",
      "1                            0  \n",
      "2                            0  \n",
      "3                            0  \n",
      "4                            0  \n",
      "5                            0  \n",
      "6                            0  \n",
      "7                            0  \n",
      "8                            0  \n",
      "9                            0  \n"
     ]
    }
   ],
   "source": [
    "\n",
    "\n",
    "query = f\"\"\"\n",
    "    SELECT *\n",
    "    FROM '{parq}'\n",
    "    WHERE game IS NULL\n",
    "    LIMIT 10\n",
    "\"\"\"\n",
    "\n",
    "res = con.execute(query).fetchdf()\n",
    "print(res)\n"
   ]
  },
  {
   "cell_type": "code",
   "execution_count": 67,
   "metadata": {},
   "outputs": [
    {
     "name": "stdout",
     "output_type": "stream",
     "text": [
      "Rows after removing NULL games: 111378451\n",
      "Saved cleaned data to: noNull.parquet\n"
     ]
    }
   ],
   "source": [
    "out = \"noNull.parquet\"\n",
    "\n",
    "con = duckdb.connect()\n",
    "\n",
    "con.execute(f\"CREATE TABLE reviews AS SELECT * FROM '{parq}'\")\n",
    "\n",
    "con.execute(\"\"\"\n",
    "    CREATE TABLE noNull AS\n",
    "    SELECT *\n",
    "    FROM reviews\n",
    "    WHERE game IS NOT NULL\n",
    "\"\"\")\n",
    "\n",
    "con.execute(f\"COPY noNull TO '{out}' (FORMAT PARQUET)\")\n",
    "\n",
    "row_count = con.execute(\"SELECT COUNT(*) FROM noNull\").fetchone()[0]\n",
    "print(f\"Rows after removing NULL games: {row_count}\")\n",
    "print(f\"Saved cleaned data to: {out}\")"
   ]
  },
  {
   "cell_type": "code",
   "execution_count": 68,
   "metadata": {},
   "outputs": [
    {
     "name": "stdout",
     "output_type": "stream",
     "text": [
      "   missing_game  empty_game\n",
      "0             0           0\n"
     ]
    }
   ],
   "source": [
    "query = f\"\"\"\n",
    "    SELECT COUNT(*) FILTER (WHERE game IS NULL) AS missing_game,\n",
    "    COUNT(*) FILTER (WHERE game = '') AS empty_game\n",
    "    FROM '{out}'\n",
    "\"\"\"\n",
    "\n",
    "res = con.execute(query).fetchdf()\n",
    "print(res)\n"
   ]
  }
 ],
 "metadata": {
  "kernelspec": {
   "display_name": ".venv",
   "language": "python",
   "name": "python3"
  },
  "language_info": {
   "codemirror_mode": {
    "name": "ipython",
    "version": 3
   },
   "file_extension": ".py",
   "mimetype": "text/x-python",
   "name": "python",
   "nbconvert_exporter": "python",
   "pygments_lexer": "ipython3",
   "version": "3.13.2"
  }
 },
 "nbformat": 4,
 "nbformat_minor": 2
}
