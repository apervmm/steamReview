{
 "cells": [
  {
   "cell_type": "code",
   "execution_count": 2,
   "metadata": {},
   "outputs": [],
   "source": [
    "import duckdb\n",
    "import pyarrow.parquet as pq\n",
    "import pandas as pd"
   ]
  },
  {
   "cell_type": "code",
   "execution_count": 3,
   "metadata": {},
   "outputs": [
    {
     "name": "stdout",
     "output_type": "stream",
     "text": [
      "recommendationid: int64\n",
      "appid: int64\n",
      "author_steamid: int64\n",
      "author_playtime_at_review: int64\n",
      "author_last_played: int64\n",
      "language: string\n",
      "timestamp_created: timestamp[ns]\n",
      "votes_up: int64\n",
      "votes_funny: int64\n",
      "weighted_vote_score: double\n",
      "comment_count: int64\n",
      "steam_purchase: int64\n",
      "received_for_free: int64\n",
      "written_during_early_access: int64\n",
      "-- schema metadata --\n",
      "pandas: '{\"index_columns\": [], \"column_indexes\": [], \"columns\": [{\"name\":' + 1876\n"
     ]
    }
   ],
   "source": [
    "reviews = \"../reviews.parquet\"\n",
    "\n",
    "pRev = pq.ParquetFile(reviews)\n",
    "revSchema = pRev.schema_arrow\n",
    "print(revSchema)\n"
   ]
  },
  {
   "cell_type": "code",
   "execution_count": 4,
   "metadata": {},
   "outputs": [
    {
     "name": "stdout",
     "output_type": "stream",
     "text": [
      "appid: int64\n",
      "game: string\n",
      "-- schema metadata --\n",
      "pandas: '{\"index_columns\": [], \"column_indexes\": [], \"columns\": [{\"name\":' + 290\n"
     ]
    }
   ],
   "source": [
    "games = \"../games.parquet\"\n",
    "pGames = pq.ParquetFile(games)\n",
    "gamesSchema = pGames.schema_arrow\n",
    "print(gamesSchema)"
   ]
  },
  {
   "cell_type": "code",
   "execution_count": 5,
   "metadata": {},
   "outputs": [
    {
     "name": "stdout",
     "output_type": "stream",
     "text": [
      "   recommendationid   appid     author_steamid  author_playtime_at_review  \\\n",
      "0          61858151  105450  76561198095427016                         74   \n",
      "1          61858130  105450  76561198367517870                       5972   \n",
      "2          61857258  105450  76561198202501564                      15604   \n",
      "3          61855517  105450  76561199014804619                        783   \n",
      "4          61855022  105450  76561198147562649                         42   \n",
      "5          61854906  105450  76561198274390926                      67134   \n",
      "6          61851893  105450  76561198858100402                       1829   \n",
      "7          61848535  105450  76561198818482403                      11231   \n",
      "8          61844535  105450  76561198008998762                       1604   \n",
      "9          61838163  105450  76561198207761347                        307   \n",
      "\n",
      "   author_last_played    language   timestamp_created  votes_up  votes_funny  \\\n",
      "0          1590676756     english 2020-01-14 20:39:20         0            0   \n",
      "1          1695133355       dutch 2020-01-14 20:38:52         0            0   \n",
      "2          1609180410       dutch 2020-01-14 20:13:17         0            2   \n",
      "3          1582358246     spanish 2020-01-14 19:23:43         0            0   \n",
      "4          1698266197     spanish 2020-01-14 19:10:15         0            0   \n",
      "5          1591135485      french 2020-01-14 19:07:00         0            0   \n",
      "6          1615654446     english 2020-01-14 17:46:37         0            0   \n",
      "7          1605724304     english 2020-01-14 16:17:29         0            0   \n",
      "8          1604533142  portuguese 2020-01-14 14:35:17         1            0   \n",
      "9          1605055668   brazilian 2020-01-14 11:27:12         0            0   \n",
      "\n",
      "   weighted_vote_score  comment_count  steam_purchase  received_for_free  \\\n",
      "0              0.00000              0               1                  0   \n",
      "1              0.00000              0               1                  0   \n",
      "2              0.00000              0               0                  0   \n",
      "3              0.00000              0               1                  0   \n",
      "4              0.00000              0               1                  0   \n",
      "5              0.00000              0               1                  0   \n",
      "6              0.00000              0               1                  0   \n",
      "7              0.00000              0               0                  0   \n",
      "8              0.52381              0               1                  0   \n",
      "9              0.00000              0               1                  0   \n",
      "\n",
      "   written_during_early_access  appid_1                        game  \n",
      "0                            0   105450  Age of Empires® III (2007)  \n",
      "1                            0   105450  Age of Empires® III (2007)  \n",
      "2                            0   105450  Age of Empires® III (2007)  \n",
      "3                            0   105450  Age of Empires® III (2007)  \n",
      "4                            0   105450  Age of Empires® III (2007)  \n",
      "5                            0   105450  Age of Empires® III (2007)  \n",
      "6                            0   105450  Age of Empires® III (2007)  \n",
      "7                            0   105450  Age of Empires® III (2007)  \n",
      "8                            0   105450  Age of Empires® III (2007)  \n",
      "9                            0   105450  Age of Empires® III (2007)  \n"
     ]
    }
   ],
   "source": [
    "con = duckdb.connect()\n",
    "\n",
    "\n",
    "query = f\"\"\"\n",
    "    SELECT *\n",
    "    FROM '{reviews}' AS r\n",
    "    JOIN '{games}' AS g\n",
    "    ON r.appid = g.appid\n",
    "    LIMIT 10\n",
    "\"\"\"\n",
    "\n",
    "first10= con.execute(query).fetchdf()\n",
    "\n",
    "print(first10)\n"
   ]
  },
  {
   "cell_type": "code",
   "execution_count": 6,
   "metadata": {},
   "outputs": [
    {
     "name": "stdout",
     "output_type": "stream",
     "text": [
      "103167\n"
     ]
    }
   ],
   "source": [
    "countr = f\"\"\"\n",
    "    SELECT COUNT(distinct appid) AS total_reviews\n",
    "    FROM '{reviews}'\n",
    "\"\"\"\n",
    "df_reviews_count = con.execute(countr).fetchdf()\n",
    "print(df_reviews_count[\"total_reviews\"][0])"
   ]
  },
  {
   "cell_type": "code",
   "execution_count": 7,
   "metadata": {},
   "outputs": [
    {
     "name": "stdout",
     "output_type": "stream",
     "text": [
      "105893\n"
     ]
    }
   ],
   "source": [
    "countg = f\"\"\"\n",
    "    SELECT COUNT(*) AS unique_games\n",
    "    FROM '{games}'\n",
    "\"\"\"\n",
    "game_apid = con.execute(countg).fetchdf()\n",
    "print(game_apid[\"unique_games\"][0])"
   ]
  },
  {
   "cell_type": "code",
   "execution_count": 8,
   "metadata": {},
   "outputs": [
    {
     "name": "stdout",
     "output_type": "stream",
     "text": [
      "105206\n"
     ]
    }
   ],
   "source": [
    "countg = f\"\"\"\n",
    "    SELECT COUNT(DISTINCT game) AS unique_games\n",
    "    FROM '{games}'\n",
    "\"\"\"\n",
    "games_count = con.execute(countg).fetchdf()\n",
    "print(games_count[\"unique_games\"][0])"
   ]
  },
  {
   "cell_type": "code",
   "execution_count": 9,
   "metadata": {},
   "outputs": [
    {
     "name": "stdout",
     "output_type": "stream",
     "text": [
      "             game  distinct_appids\n",
      "0            None               68\n",
      "1          Escape                6\n",
      "2          Aurora                6\n",
      "3           Alone                6\n",
      "4        Parasite                4\n",
      "5         Requiem                4\n",
      "6            Lost                4\n",
      "7      Soundtrack                4\n",
      "8   Hide and Seek                4\n",
      "9  Space Survival                4\n"
     ]
    }
   ],
   "source": [
    "dupes = f\"\"\"\n",
    "    SELECT\n",
    "        game,\n",
    "        COUNT(DISTINCT appid) AS distinct_appids\n",
    "    FROM '{games}'\n",
    "    GROUP BY game\n",
    "    HAVING COUNT(DISTINCT appid) > 1\n",
    "    ORDER BY distinct_appids DESC\n",
    "    LIMIT 10;\n",
    "\"\"\"\n",
    "qdupes = con.execute(dupes).fetchdf()\n",
    "print(qdupes)"
   ]
  },
  {
   "cell_type": "code",
   "execution_count": 10,
   "metadata": {},
   "outputs": [],
   "source": [
    "parq = \"rev.parquet\""
   ]
  },
  {
   "cell_type": "code",
   "execution_count": 11,
   "metadata": {},
   "outputs": [
    {
     "name": "stdout",
     "output_type": "stream",
     "text": [
      "recommendationid: int64\n",
      "game: string\n",
      "author_steamid: int64\n",
      "author_playtime_at_review: int64\n",
      "author_last_played: int64\n",
      "language: string\n",
      "timestamp_created: timestamp[ns]\n",
      "votes_up: int64\n",
      "votes_funny: int64\n",
      "weighted_vote_score: double\n",
      "comment_count: int64\n",
      "steam_purchase: int64\n",
      "received_for_free: int64\n",
      "written_during_early_access: int64\n",
      "-- schema metadata --\n",
      "pandas: '{\"index_columns\": [], \"column_indexes\": [], \"columns\": [{\"name\":' + 1877\n"
     ]
    }
   ],
   "source": [
    "revp = pq.ParquetFile(parq).schema_arrow\n",
    "print(revp)"
   ]
  },
  {
   "cell_type": "code",
   "execution_count": 12,
   "metadata": {},
   "outputs": [
    {
     "name": "stdout",
     "output_type": "stream",
     "text": [
      "   recommendationid            game     author_steamid  \\\n",
      "0         148919893  Counter-Strike  76561199036724879   \n",
      "1         148919350  Counter-Strike  76561198826729322   \n",
      "2         148913051  Counter-Strike  76561199101237625   \n",
      "3         148912714  Counter-Strike  76561198347582422   \n",
      "4         148912575  Counter-Strike  76561198363716821   \n",
      "5         148906148  Counter-Strike  76561198198293481   \n",
      "6         148905699  Counter-Strike  76561198820122182   \n",
      "7         148900627  Counter-Strike  76561198346217916   \n",
      "8         148899121  Counter-Strike  76561199143791757   \n",
      "9         148898785  Counter-Strike  76561198853145449   \n",
      "\n",
      "   author_playtime_at_review  author_last_played  language  \\\n",
      "0                        197          1698336369   russian   \n",
      "1                        441          1698335809   russian   \n",
      "2                       1313          1698338635   turkish   \n",
      "3                       1612          1698341834   russian   \n",
      "4                        197          1698329401   english   \n",
      "5                       1649          1698323046   russian   \n",
      "6                         11          1695752100   turkish   \n",
      "7                      45119          1698157431   russian   \n",
      "8                       1202          1698338304   russian   \n",
      "9                        721          1660831719  schinese   \n",
      "\n",
      "    timestamp_created  votes_up  votes_funny  weighted_vote_score  \\\n",
      "0 2023-10-26 16:06:37         0            0                  0.0   \n",
      "1 2023-10-26 15:57:01         0            0                  0.0   \n",
      "2 2023-10-26 14:17:42         0            0                  0.0   \n",
      "3 2023-10-26 14:12:35         0            0                  0.0   \n",
      "4 2023-10-26 14:10:19         0            0                  0.0   \n",
      "5 2023-10-26 12:04:00         0            0                  0.0   \n",
      "6 2023-10-26 11:54:19         0            0                  0.0   \n",
      "7 2023-10-26 10:00:19         0            0                  0.0   \n",
      "8 2023-10-26 09:21:00         0            0                  0.0   \n",
      "9 2023-10-26 09:10:51         0            0                  0.0   \n",
      "\n",
      "   comment_count  steam_purchase  received_for_free  \\\n",
      "0              0               1                  0   \n",
      "1              0               1                  0   \n",
      "2              0               1                  0   \n",
      "3              0               1                  0   \n",
      "4              0               1                  0   \n",
      "5              0               1                  0   \n",
      "6              0               0                  0   \n",
      "7              0               1                  0   \n",
      "8              0               1                  0   \n",
      "9              0               1                  0   \n",
      "\n",
      "   written_during_early_access  \n",
      "0                            0  \n",
      "1                            0  \n",
      "2                            0  \n",
      "3                            0  \n",
      "4                            0  \n",
      "5                            0  \n",
      "6                            0  \n",
      "7                            0  \n",
      "8                            0  \n",
      "9                            0  \n"
     ]
    }
   ],
   "source": [
    "pquery = f\"\"\"\n",
    "    SELECT *\n",
    "    FROM '{parq}'\n",
    "    LIMIT 10\n",
    "\"\"\"\n",
    "\n",
    "f10=con.execute(pquery).fetchdf()\n",
    "\n",
    "print(f10)"
   ]
  },
  {
   "cell_type": "code",
   "execution_count": 13,
   "metadata": {},
   "outputs": [
    {
     "name": "stdout",
     "output_type": "stream",
     "text": [
      "102513\n"
     ]
    }
   ],
   "source": [
    "ugames = f\"\"\"\n",
    "    SELECT COUNT(DISTINCT game) AS unique_games\n",
    "    FROM '{parq}'\n",
    "\"\"\"\n",
    "unique_games = con.execute(ugames).fetchdf()\n",
    "print(unique_games[\"unique_games\"][0])"
   ]
  },
  {
   "cell_type": "code",
   "execution_count": 14,
   "metadata": {},
   "outputs": [
    {
     "name": "stdout",
     "output_type": "stream",
     "text": [
      "   missing_game  empty_game\n",
      "0          5266           0\n"
     ]
    }
   ],
   "source": [
    "\n",
    "\n",
    "query = f\"\"\"\n",
    "    SELECT COUNT(*) FILTER (WHERE game IS NULL) AS missing_game,\n",
    "    COUNT(*) FILTER (WHERE game = '') AS empty_game\n",
    "    FROM '{parq}'\n",
    "\"\"\"\n",
    "\n",
    "res = con.execute(query).fetchdf()\n",
    "print(res)\n"
   ]
  },
  {
   "cell_type": "code",
   "execution_count": 15,
   "metadata": {},
   "outputs": [
    {
     "name": "stdout",
     "output_type": "stream",
     "text": [
      "   recommendationid  game     author_steamid  author_playtime_at_review  \\\n",
      "0          84555529  None  76561197971905574                        103   \n",
      "1          66663227  None  76561198047671566                         72   \n",
      "2          64124201  None  76561197970265034                        121   \n",
      "3          56306807  None  76561197994407206                         68   \n",
      "4          55664796  None  76561197974522156                         23   \n",
      "5          53814851  None  76561198338012436                        171   \n",
      "6          51837192  None  76561198149884953                         80   \n",
      "7          51522225  None  76561198031466665                        259   \n",
      "8          51019577  None  76561198122973075                        300   \n",
      "9          50907952  None  76561198966624917                        122   \n",
      "\n",
      "   author_last_played language   timestamp_created  votes_up  votes_funny  \\\n",
      "0          1610462658  english 2021-01-12 15:04:47         1            0   \n",
      "1          1586040235  spanish 2020-04-05 10:50:23         0            0   \n",
      "2          1582681326  english 2020-02-26 01:51:46         0            0   \n",
      "3          1572716522  english 2019-11-02 17:45:45         2            0   \n",
      "4          1571382193  english 2019-10-19 06:07:18        12            0   \n",
      "5          1563107264  spanish 2019-07-06 16:52:19         1            0   \n",
      "6          1561147818   german 2019-06-29 10:23:17         2            0   \n",
      "7          1561004334  english 2019-06-28 10:42:11         8            0   \n",
      "8          1559493629  italian 2019-06-02 19:28:26         3            0   \n",
      "9          1559559791  english 2019-05-28 12:26:39         6            0   \n",
      "\n",
      "   weighted_vote_score  comment_count  steam_purchase  received_for_free  \\\n",
      "0             0.000000              0               1                  0   \n",
      "1             0.000000              0               1                  0   \n",
      "2             0.000000              0               1                  0   \n",
      "3             0.503088              1               1                  0   \n",
      "4             0.352664              0               0                  1   \n",
      "5             0.000000              0               1                  0   \n",
      "6             0.472973              0               0                  1   \n",
      "7             0.577118              0               1                  0   \n",
      "8             0.000000              0               1                  0   \n",
      "9             0.524542              0               1                  0   \n",
      "\n",
      "   written_during_early_access  \n",
      "0                            0  \n",
      "1                            0  \n",
      "2                            0  \n",
      "3                            0  \n",
      "4                            0  \n",
      "5                            0  \n",
      "6                            0  \n",
      "7                            0  \n",
      "8                            0  \n",
      "9                            0  \n"
     ]
    }
   ],
   "source": [
    "\n",
    "\n",
    "query = f\"\"\"\n",
    "    SELECT *\n",
    "    FROM '{parq}'\n",
    "    WHERE game IS NULL\n",
    "    LIMIT 10\n",
    "\"\"\"\n",
    "\n",
    "res = con.execute(query).fetchdf()\n",
    "print(res)\n"
   ]
  },
  {
   "cell_type": "code",
   "execution_count": 16,
   "metadata": {},
   "outputs": [
    {
     "name": "stdout",
     "output_type": "stream",
     "text": [
      "Rows after removing NULL games: 111378451\n",
      "Saved cleaned data to: noNull.parquet\n"
     ]
    }
   ],
   "source": [
    "out = \"noNull.parquet\"\n",
    "\n",
    "con = duckdb.connect()\n",
    "\n",
    "con.execute(f\"CREATE TABLE reviews AS SELECT * FROM '{parq}'\")\n",
    "\n",
    "con.execute(\"\"\"\n",
    "    CREATE TABLE noNull AS\n",
    "    SELECT *\n",
    "    FROM reviews\n",
    "    WHERE game IS NOT NULL\n",
    "\"\"\")\n",
    "\n",
    "con.execute(f\"COPY noNull TO '{out}' (FORMAT PARQUET)\")\n",
    "\n",
    "row_count = con.execute(\"SELECT COUNT(*) FROM noNull\").fetchone()[0]\n",
    "print(f\"Rows after removing NULL games: {row_count}\")\n",
    "print(f\"Saved cleaned data to: {out}\")"
   ]
  },
  {
   "cell_type": "code",
   "execution_count": 74,
   "metadata": {},
   "outputs": [
    {
     "name": "stdout",
     "output_type": "stream",
     "text": [
      "recommendationid: int64\n",
      "game: string\n",
      "author_steamid: int64\n",
      "author_playtime_at_review: int64\n",
      "author_last_played: int64\n",
      "language: string\n",
      "timestamp_created: timestamp[ns]\n",
      "votes_up: int64\n",
      "votes_funny: int64\n",
      "weighted_vote_score: double\n",
      "comment_count: int64\n",
      "steam_purchase: int64\n",
      "received_for_free: int64\n",
      "written_during_early_access: int64\n"
     ]
    }
   ],
   "source": [
    "\n",
    "\n",
    "pRev = pq.ParquetFile(out)\n",
    "revSchema = pRev.schema_arrow\n",
    "print(revSchema)\n"
   ]
  },
  {
   "cell_type": "code",
   "execution_count": 17,
   "metadata": {},
   "outputs": [
    {
     "name": "stdout",
     "output_type": "stream",
     "text": [
      "   missing_game  empty_game\n",
      "0             0           0\n"
     ]
    }
   ],
   "source": [
    "query = f\"\"\"\n",
    "    SELECT COUNT(*) FILTER (WHERE game IS NULL) AS missing_game,\n",
    "    COUNT(*) FILTER (WHERE game = '') AS empty_game\n",
    "    FROM '{out}'\n",
    "\"\"\"\n",
    "\n",
    "res = con.execute(query).fetchdf()\n",
    "print(res)\n"
   ]
  },
  {
   "cell_type": "code",
   "execution_count": 18,
   "metadata": {},
   "outputs": [
    {
     "name": "stdout",
     "output_type": "stream",
     "text": [
      "Contradictory Purchase Info (steam_purchase=TRUE & received_for_free=TRUE):\n",
      "   contradictory_rows\n",
      "0             1326705\n"
     ]
    }
   ],
   "source": [
    "query_contradictory = f\"\"\"\n",
    "SELECT COUNT(*) AS contradictory_rows\n",
    "FROM '{out}'\n",
    "WHERE steam_purchase = TRUE\n",
    "  AND received_for_free = TRUE;\n",
    "\"\"\"\n",
    "\n",
    "contradict_df = con.execute(query_contradictory).fetchdf()\n",
    "print(\"Contradictory Purchase Info (steam_purchase=TRUE & received_for_free=TRUE):\")\n",
    "print(contradict_df)"
   ]
  },
  {
   "cell_type": "code",
   "execution_count": 19,
   "metadata": {},
   "outputs": [
    {
     "name": "stdout",
     "output_type": "stream",
     "text": [
      "Distribution of steam_purchase:\n",
      "   steam_purchase  count_reviews\n",
      "0               0       37719573\n",
      "1               1       73658878\n"
     ]
    }
   ],
   "source": [
    "query_purchase_dist = f\"\"\"\n",
    "SELECT\n",
    "  steam_purchase,\n",
    "  COUNT(*) AS count_reviews\n",
    "FROM '{out}'\n",
    "GROUP BY steam_purchase;\n",
    "\"\"\"\n",
    "\n",
    "purchase_dist_df = con.execute(query_purchase_dist).fetchdf()\n",
    "print(\"Distribution of steam_purchase:\")\n",
    "print(purchase_dist_df)"
   ]
  },
  {
   "cell_type": "code",
   "execution_count": 20,
   "metadata": {},
   "outputs": [
    {
     "name": "stdout",
     "output_type": "stream",
     "text": [
      "Distribution of written_during_early_access:\n",
      "   written_during_early_access  count_reviews\n",
      "0                            0       99290667\n",
      "1                            1       12087784 \n",
      "\n"
     ]
    }
   ],
   "source": [
    "query_early_access_dist = f\"\"\"\n",
    "SELECT\n",
    "  written_during_early_access,\n",
    "  COUNT(*) AS count_reviews\n",
    "FROM '{out}'\n",
    "GROUP BY written_during_early_access;\n",
    "\"\"\"\n",
    "\n",
    "early_access_dist_df = con.execute(query_early_access_dist).fetchdf()\n",
    "print(\"Distribution of written_during_early_access:\")\n",
    "print(early_access_dist_df, \"\\n\")"
   ]
  },
  {
   "cell_type": "code",
   "execution_count": 21,
   "metadata": {},
   "outputs": [
    {
     "name": "stdout",
     "output_type": "stream",
     "text": [
      "Average helpfulness by steam_purchase:\n",
      "   steam_purchase  avg_votes_up  avg_weighted_score\n",
      "0               0      2.204534            0.182216\n",
      "1               1      2.338048            0.178149\n"
     ]
    }
   ],
   "source": [
    "query_helpfulness_purchase = f\"\"\"\n",
    "SELECT\n",
    "  steam_purchase,\n",
    "  AVG(votes_up) AS avg_votes_up,\n",
    "  AVG(weighted_vote_score) AS avg_weighted_score\n",
    "FROM '{out}'\n",
    "GROUP BY steam_purchase;\n",
    "\"\"\"\n",
    "\n",
    "helpfulness_purchase_df = con.execute(query_helpfulness_purchase).fetchdf()\n",
    "print(\"Average helpfulness by steam_purchase:\")\n",
    "print(helpfulness_purchase_df)"
   ]
  },
  {
   "cell_type": "code",
   "execution_count": 22,
   "metadata": {},
   "outputs": [
    {
     "name": "stdout",
     "output_type": "stream",
     "text": [
      "Average helpfulness by early_access:\n",
      "   written_during_early_access  avg_votes_up  avg_weighted_score\n",
      "0                            0      2.244189            0.177498\n",
      "1                            1      2.692396            0.196185\n"
     ]
    }
   ],
   "source": [
    "query_helpfulness_early_access = f\"\"\"\n",
    "SELECT\n",
    "  written_during_early_access,\n",
    "  AVG(votes_up) AS avg_votes_up,\n",
    "  AVG(weighted_vote_score) AS avg_weighted_score\n",
    "FROM '{out}'\n",
    "GROUP BY written_during_early_access;\n",
    "\"\"\"\n",
    "\n",
    "helpfulness_early_access_df = con.execute(query_helpfulness_early_access).fetchdf()\n",
    "print(\"Average helpfulness by early_access:\")\n",
    "print(helpfulness_early_access_df)"
   ]
  },
  {
   "cell_type": "code",
   "execution_count": 24,
   "metadata": {},
   "outputs": [
    {
     "name": "stdout",
     "output_type": "stream",
     "text": [
      "   recommendationid            game     author_steamid  \\\n",
      "0         148919893  Counter-Strike  76561199036724879   \n",
      "1         148919350  Counter-Strike  76561198826729322   \n",
      "2         148913051  Counter-Strike  76561199101237625   \n",
      "3         148912714  Counter-Strike  76561198347582422   \n",
      "4         148912575  Counter-Strike  76561198363716821   \n",
      "5         148906148  Counter-Strike  76561198198293481   \n",
      "6         148905699  Counter-Strike  76561198820122182   \n",
      "7         148900627  Counter-Strike  76561198346217916   \n",
      "8         148899121  Counter-Strike  76561199143791757   \n",
      "9         148898785  Counter-Strike  76561198853145449   \n",
      "\n",
      "   author_playtime_at_review  author_last_played  language  \\\n",
      "0                        197          1698336369   russian   \n",
      "1                        441          1698335809   russian   \n",
      "2                       1313          1698338635   turkish   \n",
      "3                       1612          1698341834   russian   \n",
      "4                        197          1698329401   english   \n",
      "5                       1649          1698323046   russian   \n",
      "6                         11          1695752100   turkish   \n",
      "7                      45119          1698157431   russian   \n",
      "8                       1202          1698338304   russian   \n",
      "9                        721          1660831719  schinese   \n",
      "\n",
      "    timestamp_created  votes_up  votes_funny  weighted_vote_score  \\\n",
      "0 2023-10-26 16:06:37         0            0                  0.0   \n",
      "1 2023-10-26 15:57:01         0            0                  0.0   \n",
      "2 2023-10-26 14:17:42         0            0                  0.0   \n",
      "3 2023-10-26 14:12:35         0            0                  0.0   \n",
      "4 2023-10-26 14:10:19         0            0                  0.0   \n",
      "5 2023-10-26 12:04:00         0            0                  0.0   \n",
      "6 2023-10-26 11:54:19         0            0                  0.0   \n",
      "7 2023-10-26 10:00:19         0            0                  0.0   \n",
      "8 2023-10-26 09:21:00         0            0                  0.0   \n",
      "9 2023-10-26 09:10:51         0            0                  0.0   \n",
      "\n",
      "   comment_count  steam_purchase  received_for_free  \\\n",
      "0              0               1                  0   \n",
      "1              0               1                  0   \n",
      "2              0               1                  0   \n",
      "3              0               1                  0   \n",
      "4              0               1                  0   \n",
      "5              0               1                  0   \n",
      "6              0               0                  0   \n",
      "7              0               1                  0   \n",
      "8              0               1                  0   \n",
      "9              0               1                  0   \n",
      "\n",
      "   written_during_early_access  \n",
      "0                            0  \n",
      "1                            0  \n",
      "2                            0  \n",
      "3                            0  \n",
      "4                            0  \n",
      "5                            0  \n",
      "6                            0  \n",
      "7                            0  \n",
      "8                            0  \n",
      "9                            0  \n"
     ]
    }
   ],
   "source": [
    "q = f\"\"\"\n",
    "SELECT * FROM '{out}' LIMIT 10;\n",
    "\"\"\"\n",
    "\n",
    "\n",
    "\n",
    "df = con.execute(q).fetchdf()\n",
    "print(df)"
   ]
  },
  {
   "cell_type": "code",
   "execution_count": 28,
   "metadata": {},
   "outputs": [],
   "source": [
    "import seaborn as sns\n",
    "import matplotlib.pyplot as plt"
   ]
  },
  {
   "cell_type": "code",
   "execution_count": 37,
   "metadata": {},
   "outputs": [
    {
     "name": "stdout",
     "output_type": "stream",
     "text": [
      "   long_playtime  avg_helpful_votes  total_reviews\n",
      "0              0           6.266858        3053776\n",
      "1              1           2.180800      108324675\n"
     ]
    }
   ],
   "source": [
    "def get_playtime_helpfulness(threshold=10):\n",
    "    \"\"\"\n",
    "    Returns average helpful votes and total review counts,\n",
    "    grouped by a playtime threshold (in hours).\n",
    "    \"\"\"\n",
    "    query = f\"\"\"\n",
    "    SELECT\n",
    "        CASE\n",
    "            WHEN author_playtime_at_review >= {threshold} THEN 1\n",
    "            ELSE 0\n",
    "        END AS long_playtime,\n",
    "        AVG(votes_up) AS avg_helpful_votes,\n",
    "        COUNT(*) AS total_reviews\n",
    "    FROM {out}\n",
    "    WHERE votes_up IS NOT NULL\n",
    "    GROUP BY 1\n",
    "    ORDER BY 1\n",
    "    \"\"\"\n",
    "    return con.execute(query).fetchdf()\n",
    "\n",
    "# Example usage:\n",
    "b = get_playtime_helpfulness(threshold=10)\n",
    "print(b)\n"
   ]
  },
  {
   "cell_type": "code",
   "execution_count": 46,
   "metadata": {},
   "outputs": [
    {
     "name": "stdout",
     "output_type": "stream",
     "text": [
      "   steam_purchase  avg_helpful_votes  total_reviews\n",
      "0               0           2.204534       37719573\n",
      "1               1           2.338048       73658878\n"
     ]
    }
   ],
   "source": [
    "def get_purchase_helpfulness():\n",
    "    query = f\"\"\"\n",
    "    SELECT\n",
    "        steam_purchase,\n",
    "        AVG(votes_up) AS avg_helpful_votes,\n",
    "        COUNT(*) AS total_reviews\n",
    "    FROM {out}\n",
    "    WHERE votes_up IS NOT NULL\n",
    "    GROUP BY steam_purchase\n",
    "    ORDER BY steam_purchase\n",
    "    \"\"\"\n",
    "    return con.execute(query).fetchdf()\n",
    "\n",
    "df_h1 = get_purchase_helpfulness()\n",
    "print(df_h1)\n"
   ]
  },
  {
   "cell_type": "code",
   "execution_count": 53,
   "metadata": {},
   "outputs": [
    {
     "name": "stderr",
     "output_type": "stream",
     "text": [
      "/var/folders/nb/9vq11ylj5l5715vrvc8fj0b00000gn/T/ipykernel_25542/890946836.py:3: FutureWarning: \n",
      "\n",
      "Passing `palette` without assigning `hue` is deprecated and will be removed in v0.14.0. Assign the `x` variable to `hue` and set `legend=False` for the same effect.\n",
      "\n",
      "  sns.barplot(data=df, x='steam_purchase', y='avg_helpful_votes', palette=['orange','blue'])\n"
     ]
    },
    {
     "data": {
      "image/png": "[encoded data removed]",
      "text/plain": [
       "<Figure size 600x400 with 1 Axes>"
      ]
     },
     "metadata": {},
     "output_type": "display_data"
    }
   ],
   "source": [
    "def plot_purchase_helpfulness_bar(df):\n",
    "    plt.figure(figsize=(6,4))\n",
    "    sns.barplot(data=df, x='steam_purchase', y='avg_helpful_votes', palette=['orange','blue'])\n",
    "    plt.title(\"Average Helpful Votes by Purchase Status\")\n",
    "    plt.xlabel(\"Steam Purchase (1=Purchased, 0=Free)\")\n",
    "    plt.ylabel(\"Average Helpful Votes\")\n",
    "    plt.tight_layout()\n",
    "    plt.show()\n",
    "\n",
    "plot_purchase_helpfulness_bar(df_h1)\n"
   ]
  },
  {
   "cell_type": "code",
   "execution_count": 48,
   "metadata": {},
   "outputs": [
    {
     "name": "stdout",
     "output_type": "stream",
     "text": [
      "  playtime_bucket  steam_purchase  avg_helpful  review_count\n",
      "0            0-5h               0     5.627407        493211\n",
      "1            0-5h               1     7.418657       1363950\n",
      "2            20h+               0     2.078423      35474839\n",
      "3            20h+               1     2.175326      70921445\n",
      "4           5-20h               0     3.794901       1751523\n",
      "5           5-20h               1     5.695041       1373483\n"
     ]
    }
   ],
   "source": [
    "def get_purchase_playtime_buckets():\n",
    "    query = f\"\"\"\n",
    "    SELECT\n",
    "        CASE \n",
    "            WHEN author_playtime_at_review < 5 THEN '0-5h'\n",
    "            WHEN author_playtime_at_review < 20 THEN '5-20h'\n",
    "            ELSE '20h+'\n",
    "        END AS playtime_bucket,\n",
    "        steam_purchase,\n",
    "        AVG(votes_up) AS avg_helpful,\n",
    "        COUNT(*) AS review_count\n",
    "    FROM {out}\n",
    "    WHERE votes_up IS NOT NULL\n",
    "    GROUP BY 1, 2\n",
    "    ORDER BY 1, 2\n",
    "    \"\"\"\n",
    "    return con.execute(query).fetchdf()\n",
    "\n",
    "df_buckets = get_purchase_playtime_buckets()\n",
    "print(df_buckets)\n"
   ]
  },
  {
   "cell_type": "code",
   "execution_count": 49,
   "metadata": {},
   "outputs": [
    {
     "data": {
      "image/png": "[encoded data removed]",
      "text/plain": [
       "<Figure size 800x500 with 1 Axes>"
      ]
     },
     "metadata": {},
     "output_type": "display_data"
    }
   ],
   "source": [
    "\n",
    "def plot_purchase_playtime_buckets(df):\n",
    "    plt.figure(figsize=(8, 5))\n",
    "    sns.barplot(data=df, x='playtime_bucket', y='avg_helpful', hue='steam_purchase')\n",
    "    plt.title(\"Avg Helpful Votes by Playtime Bucket and Purchase Status\")\n",
    "    plt.xlabel(\"Playtime Bucket\")\n",
    "    plt.ylabel(\"Average Helpful Votes\")\n",
    "    plt.legend(title=\"Purchased?\")\n",
    "    plt.tight_layout()\n",
    "    plt.show()\n",
    "\n",
    "plot_purchase_playtime_buckets(df_buckets)\n"
   ]
  },
  {
   "cell_type": "code",
   "execution_count": 51,
   "metadata": {},
   "outputs": [
    {
     "name": "stdout",
     "output_type": "stream",
     "text": [
      "T-test for steam_purchase vs. votes_up:\n",
      "T-stat: 17.91905173892688\n",
      "P-value: 8.377267628030137e-72\n"
     ]
    }
   ],
   "source": [
    "from scipy.stats import ttest_ind\n",
    "\n",
    "def test_purchase_helpfulness():\n",
    "    query = f\"\"\"\n",
    "    SELECT\n",
    "        steam_purchase,\n",
    "        votes_up\n",
    "    FROM {out}\n",
    "    WHERE votes_up IS NOT NULL\n",
    "    \"\"\"\n",
    "    df = con.execute(query).fetchdf()\n",
    "    purchased = df[df['steam_purchase'] == 1]['votes_up']\n",
    "    free = df[df['steam_purchase'] == 0]['votes_up']\n",
    "\n",
    "    t_stat, p_val = ttest_ind(purchased, free, equal_var=False)\n",
    "    print(\"T-test for steam_purchase vs. votes_up:\")\n",
    "    print(\"T-stat:\", t_stat)\n",
    "    print(\"P-value:\", p_val)\n",
    "\n",
    "test_purchase_helpfulness()\n"
   ]
  },
  {
   "cell_type": "code",
   "execution_count": 57,
   "metadata": {},
   "outputs": [
    {
     "name": "stdout",
     "output_type": "stream",
     "text": [
      "Small Games: ['Rocksmith 2014 - The Killers - Mr. Brightside', '[Revival] DOA6 Hot Summer Costume - Tina', 'Omega Labyrinth Life - Character Song: Pai', 'Rocksmith 2014 - Mastodon Song Pack', 'Rocksmith 2014 - Deftones - Be Quiet and Drive (Far Away)', 'Purple Saturn Day', 'Story of a Gladiator - Soundtrack', 'Omega Labyrinth Life - Costume: Yurika (Animal)', 'Artifact Adventure Gaiden DX Soundtrack', 'Rocksmith 2014 - Cake - The Distance']\n"
     ]
    }
   ],
   "source": [
    "def get_small_games_list(n=10):\n",
    "    \"\"\"\n",
    "    Returns a list of 'n' game names/IDs that have the fewest total reviews.\n",
    "    Adjust 'n' as desired.\n",
    "    \"\"\"\n",
    "    query = f\"\"\"\n",
    "    WITH review_counts AS (\n",
    "        SELECT\n",
    "            game,\n",
    "            COUNT(*) AS total_reviews\n",
    "        FROM {out}\n",
    "        GROUP BY game\n",
    "        ORDER BY total_reviews ASC\n",
    "        LIMIT {n}\n",
    "    )\n",
    "    SELECT game\n",
    "    FROM review_counts;\n",
    "    \"\"\"\n",
    "    rows = con.execute(query).fetchall()\n",
    "    # Flatten list of tuples to a Python list\n",
    "    return [r[0] for r in rows]\n",
    "\n",
    "small_games = get_small_games_list(n=10)\n",
    "print(\"Small Games:\", small_games)\n"
   ]
  },
  {
   "cell_type": "code",
   "execution_count": 58,
   "metadata": {},
   "outputs": [
    {
     "data": {
      "text/html": [
       "<div>\n",
       "<style scoped>\n",
       "    .dataframe tbody tr th:only-of-type {\n",
       "        vertical-align: middle;\n",
       "    }\n",
       "\n",
       "    .dataframe tbody tr th {\n",
       "        vertical-align: top;\n",
       "    }\n",
       "\n",
       "    .dataframe thead th {\n",
       "        text-align: right;\n",
       "    }\n",
       "</style>\n",
       "<table border=\"1\" class=\"dataframe\">\n",
       "  <thead>\n",
       "    <tr style=\"text-align: right;\">\n",
       "      <th></th>\n",
       "      <th>game</th>\n",
       "      <th>steam_purchase</th>\n",
       "      <th>avg_helpful_votes</th>\n",
       "      <th>total_reviews</th>\n",
       "    </tr>\n",
       "  </thead>\n",
       "  <tbody>\n",
       "    <tr>\n",
       "      <th>0</th>\n",
       "      <td>Artifact Adventure Gaiden DX Soundtrack</td>\n",
       "      <td>1</td>\n",
       "      <td>0.0</td>\n",
       "      <td>1</td>\n",
       "    </tr>\n",
       "    <tr>\n",
       "      <th>1</th>\n",
       "      <td>Omega Labyrinth Life - Character Song: Pai</td>\n",
       "      <td>1</td>\n",
       "      <td>1.0</td>\n",
       "      <td>1</td>\n",
       "    </tr>\n",
       "    <tr>\n",
       "      <th>2</th>\n",
       "      <td>Omega Labyrinth Life - Costume: Yurika (Animal)</td>\n",
       "      <td>1</td>\n",
       "      <td>1.0</td>\n",
       "      <td>1</td>\n",
       "    </tr>\n",
       "    <tr>\n",
       "      <th>3</th>\n",
       "      <td>Purple Saturn Day</td>\n",
       "      <td>1</td>\n",
       "      <td>4.0</td>\n",
       "      <td>1</td>\n",
       "    </tr>\n",
       "    <tr>\n",
       "      <th>4</th>\n",
       "      <td>Rocksmith 2014 - Cake - The Distance</td>\n",
       "      <td>1</td>\n",
       "      <td>4.0</td>\n",
       "      <td>1</td>\n",
       "    </tr>\n",
       "    <tr>\n",
       "      <th>5</th>\n",
       "      <td>Rocksmith 2014 - Deftones - Be Quiet and Drive...</td>\n",
       "      <td>1</td>\n",
       "      <td>2.0</td>\n",
       "      <td>1</td>\n",
       "    </tr>\n",
       "    <tr>\n",
       "      <th>6</th>\n",
       "      <td>Rocksmith 2014 - Mastodon Song Pack</td>\n",
       "      <td>1</td>\n",
       "      <td>25.0</td>\n",
       "      <td>1</td>\n",
       "    </tr>\n",
       "    <tr>\n",
       "      <th>7</th>\n",
       "      <td>Rocksmith 2014 - The Killers - Mr. Brightside</td>\n",
       "      <td>1</td>\n",
       "      <td>27.0</td>\n",
       "      <td>1</td>\n",
       "    </tr>\n",
       "    <tr>\n",
       "      <th>8</th>\n",
       "      <td>Story of a Gladiator - Soundtrack</td>\n",
       "      <td>0</td>\n",
       "      <td>0.0</td>\n",
       "      <td>1</td>\n",
       "    </tr>\n",
       "    <tr>\n",
       "      <th>9</th>\n",
       "      <td>[Revival] DOA6 Hot Summer Costume - Tina</td>\n",
       "      <td>1</td>\n",
       "      <td>1.0</td>\n",
       "      <td>1</td>\n",
       "    </tr>\n",
       "  </tbody>\n",
       "</table>\n",
       "</div>"
      ],
      "text/plain": [
       "                                                game  steam_purchase  \\\n",
       "0            Artifact Adventure Gaiden DX Soundtrack               1   \n",
       "1         Omega Labyrinth Life - Character Song: Pai               1   \n",
       "2    Omega Labyrinth Life - Costume: Yurika (Animal)               1   \n",
       "3                                  Purple Saturn Day               1   \n",
       "4               Rocksmith 2014 - Cake - The Distance               1   \n",
       "5  Rocksmith 2014 - Deftones - Be Quiet and Drive...               1   \n",
       "6                Rocksmith 2014 - Mastodon Song Pack               1   \n",
       "7      Rocksmith 2014 - The Killers - Mr. Brightside               1   \n",
       "8                  Story of a Gladiator - Soundtrack               0   \n",
       "9           [Revival] DOA6 Hot Summer Costume - Tina               1   \n",
       "\n",
       "   avg_helpful_votes  total_reviews  \n",
       "0                0.0              1  \n",
       "1                1.0              1  \n",
       "2                1.0              1  \n",
       "3                4.0              1  \n",
       "4                4.0              1  \n",
       "5                2.0              1  \n",
       "6               25.0              1  \n",
       "7               27.0              1  \n",
       "8                0.0              1  \n",
       "9                1.0              1  "
      ]
     },
     "execution_count": 58,
     "metadata": {},
     "output_type": "execute_result"
    }
   ],
   "source": [
    "def get_small_games_helpfulness(small_games):\n",
    "    \"\"\"\n",
    "    Returns the average helpful votes grouped by purchase status,\n",
    "    but only for a specified list of small games.\n",
    "    \"\"\"\n",
    "    # Convert the list of games into a string for SQL IN clause\n",
    "    games_str = \"', '\".join(str(g) for g in small_games)\n",
    "    \n",
    "    query = f\"\"\"\n",
    "    SELECT\n",
    "        game,\n",
    "        steam_purchase,\n",
    "        AVG(votes_up) AS avg_helpful_votes,\n",
    "        COUNT(*) AS total_reviews\n",
    "    FROM {out}\n",
    "    WHERE votes_up IS NOT NULL\n",
    "      AND game IN ('{games_str}')\n",
    "    GROUP BY game, steam_purchase\n",
    "    ORDER BY game, steam_purchase\n",
    "    \"\"\"\n",
    "    return con.execute(query).fetchdf()\n",
    "\n",
    "df_small_helpful = get_small_games_helpfulness(small_games)\n",
    "df_small_helpful.head(10)\n"
   ]
  },
  {
   "cell_type": "code",
   "execution_count": 59,
   "metadata": {},
   "outputs": [
    {
     "data": {
      "image/png": "[encoded data removed]",
      "text/plain": [
       "<Figure size 1000x600 with 1 Axes>"
      ]
     },
     "metadata": {},
     "output_type": "display_data"
    }
   ],
   "source": [
    "\n",
    "\n",
    "def plot_small_games_helpfulness(df):\n",
    "    \"\"\"\n",
    "    Creates a grouped bar chart of average helpful votes for each small game,\n",
    "    split by purchase status.\n",
    "    \"\"\"\n",
    "    plt.figure(figsize=(10,6))\n",
    "    sns.barplot(\n",
    "        data=df,\n",
    "        x='game', y='avg_helpful_votes',\n",
    "        hue='steam_purchase',\n",
    "        palette=['orange','blue']\n",
    "    )\n",
    "    plt.title(\"Average Helpful Votes by Purchase Status for Smaller Games\")\n",
    "    plt.xlabel(\"Game\")\n",
    "    plt.ylabel(\"Average Helpful Votes\")\n",
    "    plt.xticks(rotation=45, ha='right')\n",
    "    plt.legend(title=\"Purchased?\")\n",
    "    plt.tight_layout()\n",
    "    plt.show()\n",
    "\n",
    "plot_small_games_helpfulness(df_small_helpful)\n"
   ]
  },
  {
   "cell_type": "code",
   "execution_count": 60,
   "metadata": {},
   "outputs": [
    {
     "name": "stdout",
     "output_type": "stream",
     "text": [
      "Game: Rocksmith 2014 - The Killers - Mr. Brightside, T-stat: None, P-value: None, Purchased N=1, Free N=0\n",
      "Game: [Revival] DOA6 Hot Summer Costume - Tina, T-stat: None, P-value: None, Purchased N=1, Free N=0\n",
      "Game: Omega Labyrinth Life - Character Song: Pai, T-stat: None, P-value: None, Purchased N=1, Free N=0\n",
      "Game: Rocksmith 2014 - Mastodon Song Pack, T-stat: None, P-value: None, Purchased N=1, Free N=0\n",
      "Game: Rocksmith 2014 - Deftones - Be Quiet and Drive (Far Away), T-stat: None, P-value: None, Purchased N=1, Free N=0\n",
      "Game: Purple Saturn Day, T-stat: None, P-value: None, Purchased N=1, Free N=0\n",
      "Game: Story of a Gladiator - Soundtrack, T-stat: None, P-value: None, Purchased N=0, Free N=1\n",
      "Game: Omega Labyrinth Life - Costume: Yurika (Animal), T-stat: None, P-value: None, Purchased N=1, Free N=0\n",
      "Game: Artifact Adventure Gaiden DX Soundtrack, T-stat: None, P-value: None, Purchased N=1, Free N=0\n",
      "Game: Rocksmith 2014 - Cake - The Distance, T-stat: None, P-value: None, Purchased N=1, Free N=0\n"
     ]
    }
   ],
   "source": [
    "\n",
    "\n",
    "def test_small_games_purchase_helpfulness(small_games):\n",
    "    \"\"\"\n",
    "    Performs an independent t-test for each small game,\n",
    "    comparing purchased vs. free reviews in terms of votes_up.\n",
    "    \"\"\"\n",
    "    results = []\n",
    "    for g in small_games:\n",
    "        query = f\"\"\"\n",
    "        SELECT steam_purchase, votes_up\n",
    "        FROM {out}\n",
    "        WHERE votes_up IS NOT NULL\n",
    "          AND game = '{g}'\n",
    "        \"\"\"\n",
    "        df = con.execute(query).fetchdf()\n",
    "        purchased = df[df['steam_purchase'] == 1]['votes_up']\n",
    "        free = df[df['steam_purchase'] == 0]['votes_up']\n",
    "        \n",
    "        if len(purchased) > 1 and len(free) > 1:\n",
    "            t_stat, p_val = ttest_ind(purchased, free, equal_var=False)\n",
    "            results.append((g, t_stat, p_val, len(purchased), len(free)))\n",
    "        else:\n",
    "            results.append((g, None, None, len(purchased), len(free)))\n",
    "    return results\n",
    "\n",
    "t_results = test_small_games_purchase_helpfulness(small_games)\n",
    "for row in t_results:\n",
    "    print(f\"Game: {row[0]}, T-stat: {row[1]}, P-value: {row[2]}, Purchased N={row[3]}, Free N={row[4]}\")\n"
   ]
  },
  {
   "cell_type": "code",
   "execution_count": 61,
   "metadata": {},
   "outputs": [
    {
     "data": {
      "text/html": [
       "<div>\n",
       "<style scoped>\n",
       "    .dataframe tbody tr th:only-of-type {\n",
       "        vertical-align: middle;\n",
       "    }\n",
       "\n",
       "    .dataframe tbody tr th {\n",
       "        vertical-align: top;\n",
       "    }\n",
       "\n",
       "    .dataframe thead th {\n",
       "        text-align: right;\n",
       "    }\n",
       "</style>\n",
       "<table border=\"1\" class=\"dataframe\">\n",
       "  <thead>\n",
       "    <tr style=\"text-align: right;\">\n",
       "      <th></th>\n",
       "      <th>game</th>\n",
       "      <th>total_reviews</th>\n",
       "    </tr>\n",
       "  </thead>\n",
       "  <tbody>\n",
       "    <tr>\n",
       "      <th>0</th>\n",
       "      <td>Counter-Strike 2</td>\n",
       "      <td>7704653</td>\n",
       "    </tr>\n",
       "    <tr>\n",
       "      <th>1</th>\n",
       "      <td>PUBG: BATTLEGROUNDS</td>\n",
       "      <td>2235431</td>\n",
       "    </tr>\n",
       "    <tr>\n",
       "      <th>2</th>\n",
       "      <td>Grand Theft Auto V</td>\n",
       "      <td>1659268</td>\n",
       "    </tr>\n",
       "    <tr>\n",
       "      <th>3</th>\n",
       "      <td>Terraria</td>\n",
       "      <td>1205564</td>\n",
       "    </tr>\n",
       "    <tr>\n",
       "      <th>4</th>\n",
       "      <td>Garry's Mod</td>\n",
       "      <td>1006609</td>\n",
       "    </tr>\n",
       "  </tbody>\n",
       "</table>\n",
       "</div>"
      ],
      "text/plain": [
       "                  game  total_reviews\n",
       "0     Counter-Strike 2        7704653\n",
       "1  PUBG: BATTLEGROUNDS        2235431\n",
       "2   Grand Theft Auto V        1659268\n",
       "3             Terraria        1205564\n",
       "4          Garry's Mod        1006609"
      ]
     },
     "execution_count": 61,
     "metadata": {},
     "output_type": "execute_result"
    }
   ],
   "source": [
    "def get_review_counts():\n",
    "    query = f\"\"\"\n",
    "    SELECT\n",
    "        game,\n",
    "        COUNT(*) AS total_reviews\n",
    "    FROM {out}\n",
    "    GROUP BY game\n",
    "    ORDER BY total_reviews DESC\n",
    "    \"\"\"\n",
    "    return con.execute(query).fetchdf()\n",
    "\n",
    "df_counts = get_review_counts()\n",
    "df_counts.head()\n"
   ]
  },
  {
   "cell_type": "code",
   "execution_count": 62,
   "metadata": {},
   "outputs": [
    {
     "name": "stdout",
     "output_type": "stream",
     "text": [
      "90th Percentile (Super Popular) Cutoff = 461.0\n"
     ]
    }
   ],
   "source": [
    "import numpy as np\n",
    "\n",
    "def get_top_10pct_cutoff():\n",
    "    df_counts = get_review_counts()\n",
    "    # The 'total_reviews' column is sorted descending, but we just need the values\n",
    "    review_counts = df_counts['total_reviews'].values\n",
    "    # Calculate the 90th percentile\n",
    "    cutoff = np.percentile(review_counts, 90)\n",
    "    return cutoff\n",
    "\n",
    "cutoff_value = get_top_10pct_cutoff()\n",
    "print(\"90th Percentile (Super Popular) Cutoff =\", cutoff_value)\n"
   ]
  },
  {
   "cell_type": "code",
   "execution_count": 64,
   "metadata": {},
   "outputs": [
    {
     "name": "stdout",
     "output_type": "stream",
     "text": [
      "Number of less popular games: 92250\n"
     ]
    }
   ],
   "source": [
    "def get_less_popular_games():\n",
    "    cutoff_value = get_top_10pct_cutoff()\n",
    "    query = f\"\"\"\n",
    "    WITH game_review_counts AS (\n",
    "        SELECT\n",
    "            game,\n",
    "            COUNT(*) AS total_reviews\n",
    "        FROM {out}\n",
    "        GROUP BY game\n",
    "    )\n",
    "    SELECT game\n",
    "    FROM game_review_counts\n",
    "    WHERE total_reviews < {cutoff_value}\n",
    "    \"\"\"\n",
    "    rows = con.execute(query).fetchall()\n",
    "    return [r[0] for r in rows]\n",
    "\n",
    "less_popular_games = get_less_popular_games()\n",
    "print(\"Number of less popular games:\", len(less_popular_games))\n"
   ]
  },
  {
   "cell_type": "code",
   "execution_count": 76,
   "metadata": {},
   "outputs": [
    {
     "name": "stdout",
     "output_type": "stream",
     "text": [
      "  review_month  steam_purchase  avg_votes_up  total_reviews\n",
      "0   2010-10-01               0      1.375000            208\n",
      "1   2010-10-01               1      0.738667            375\n",
      "2   2010-11-01               0      0.573066           3141\n",
      "3   2010-11-01               1      0.624107           5459\n",
      "4   2010-12-01               0      0.483638           5531\n",
      "5   2010-12-01               1      0.652569          10333\n",
      "6   2011-01-01               0      0.583397           2626\n",
      "7   2011-01-01               1      0.600044           4523\n",
      "8   2011-02-01               0      0.453813           1862\n",
      "9   2011-02-01               1      0.640192           2921\n"
     ]
    }
   ],
   "source": [
    "def get_monthly_helpful_trend():\n",
    "    query = f\"\"\"\n",
    "    SELECT\n",
    "        DATE_TRUNC('month', timestamp_created) AS review_month,\n",
    "        steam_purchase,\n",
    "        AVG(votes_up) AS avg_votes_up,\n",
    "        COUNT(*) AS total_reviews\n",
    "    FROM {out}\n",
    "    WHERE votes_up IS NOT NULL\n",
    "    GROUP BY 1, 2\n",
    "    ORDER BY review_month, steam_purchase\n",
    "    \"\"\"\n",
    "    return con.execute(query).fetchdf()\n",
    "\n",
    "df_monthly = get_monthly_helpful_trend()\n",
    "print(df_monthly.head(10))  # Inspect the first few rows\n"
   ]
  },
  {
   "cell_type": "code",
   "execution_count": 77,
   "metadata": {},
   "outputs": [
    {
     "data": {
      "image/png": "[encoded data removed]",
      "text/plain": [
       "<Figure size 1000x600 with 1 Axes>"
      ]
     },
     "metadata": {},
     "output_type": "display_data"
    }
   ],
   "source": [
    "\n",
    "def plot_monthly_helpful_trend(df):\n",
    "    plt.figure(figsize=(10,6))\n",
    "    sns.lineplot(\n",
    "        data=df,\n",
    "        x='review_month', y='avg_votes_up',\n",
    "        hue='steam_purchase',  # separate lines for purchased vs free\n",
    "        marker='o'\n",
    "    )\n",
    "    plt.title(\"Average Helpful Votes Over Time by Purchase Status\")\n",
    "    plt.xlabel(\"Month of Review\")\n",
    "    plt.ylabel(\"Average Helpful Votes\")\n",
    "    plt.xticks(rotation=45)\n",
    "    plt.legend(title=\"Purchased?\")\n",
    "    plt.tight_layout()\n",
    "    plt.show()\n",
    "\n",
    "plot_monthly_helpful_trend(df_monthly)\n"
   ]
  },
  {
   "cell_type": "code",
   "execution_count": 5,
   "metadata": {},
   "outputs": [
    {
     "ename": "NameError",
     "evalue": "name 'out' is not defined",
     "output_type": "error",
     "traceback": [
      "\u001b[31m---------------------------------------------------------------------------\u001b[39m",
      "\u001b[31mNameError\u001b[39m                                 Traceback (most recent call last)",
      "\u001b[36mCell\u001b[39m\u001b[36m \u001b[39m\u001b[32mIn[5]\u001b[39m\u001b[32m, line 13\u001b[39m\n\u001b[32m      2\u001b[39m     query = \u001b[33mf\u001b[39m\u001b[33m\"\"\"\u001b[39m\n\u001b[32m      3\u001b[39m \u001b[33m    SELECT\u001b[39m\n\u001b[32m      4\u001b[39m \u001b[33m        steam_purchase,\u001b[39m\n\u001b[32m   (...)\u001b[39m\u001b[32m      9\u001b[39m \u001b[33m      AND comment_count IS NOT NULL\u001b[39m\n\u001b[32m     10\u001b[39m \u001b[33m    \u001b[39m\u001b[33m\"\"\"\u001b[39m\n\u001b[32m     11\u001b[39m     \u001b[38;5;28;01mreturn\u001b[39;00m con.execute(query).fetchdf()\n\u001b[32m---> \u001b[39m\u001b[32m13\u001b[39m df_scatter = \u001b[43mget_votes_vs_comments\u001b[49m\u001b[43m(\u001b[49m\u001b[43m)\u001b[49m\n\u001b[32m     14\u001b[39m \u001b[38;5;28mprint\u001b[39m(df_scatter.head())\n",
      "\u001b[36mCell\u001b[39m\u001b[36m \u001b[39m\u001b[32mIn[5]\u001b[39m\u001b[32m, line 7\u001b[39m, in \u001b[36mget_votes_vs_comments\u001b[39m\u001b[34m()\u001b[39m\n\u001b[32m      1\u001b[39m \u001b[38;5;28;01mdef\u001b[39;00m\u001b[38;5;250m \u001b[39m\u001b[34mget_votes_vs_comments\u001b[39m():\n\u001b[32m      2\u001b[39m     query = \u001b[33mf\u001b[39m\u001b[33m\"\"\"\u001b[39m\n\u001b[32m      3\u001b[39m \u001b[33m    SELECT\u001b[39m\n\u001b[32m      4\u001b[39m \u001b[33m        steam_purchase,\u001b[39m\n\u001b[32m      5\u001b[39m \u001b[33m        votes_up,\u001b[39m\n\u001b[32m      6\u001b[39m \u001b[33m        comment_count\u001b[39m\n\u001b[32m----> \u001b[39m\u001b[32m7\u001b[39m \u001b[33m    FROM \u001b[39m\u001b[38;5;132;01m{\u001b[39;00m\u001b[43mout\u001b[49m\u001b[38;5;132;01m}\u001b[39;00m\n\u001b[32m      8\u001b[39m \u001b[33m    WHERE votes_up IS NOT NULL\u001b[39m\n\u001b[32m      9\u001b[39m \u001b[33m      AND comment_count IS NOT NULL\u001b[39m\n\u001b[32m     10\u001b[39m \u001b[33m    \u001b[39m\u001b[33m\"\"\"\u001b[39m\n\u001b[32m     11\u001b[39m     \u001b[38;5;28;01mreturn\u001b[39;00m con.execute(query).fetchdf()\n",
      "\u001b[31mNameError\u001b[39m: name 'out' is not defined"
     ]
    }
   ],
   "source": [
    "def get_votes_vs_comments():\n",
    "    query = f\"\"\"\n",
    "    SELECT\n",
    "        steam_purchase,\n",
    "        votes_up,\n",
    "        comment_count\n",
    "    FROM {out}\n",
    "    WHERE votes_up IS NOT NULL\n",
    "      AND comment_count IS NOT NULL\n",
    "    \"\"\"\n",
    "    return con.execute(query).fetchdf()\n",
    "\n",
    "df_scatter = get_votes_vs_comments()\n",
    "print(df_scatter.head())\n"
   ]
  },
  {
   "cell_type": "code",
   "execution_count": 1,
   "metadata": {},
   "outputs": [],
   "source": [
    "def plot_votes_vs_comments_hex(df):\n",
    "    \"\"\"\n",
    "    Creates a 2D hexbin plot of comment_count vs. votes_up,\n",
    "    ignoring steam_purchase for the moment (or you can split it).\n",
    "    \"\"\"\n",
    "    plt.figure(figsize=(8,6))\n",
    "    plt.hexbin(\n",
    "        x=df['comment_count'],\n",
    "        y=df['votes_up'],\n",
    "        gridsize=50,   # adjust for resolution\n",
    "        cmap='viridis',\n",
    "        bins='log'     # optional log-scaling for bin counts\n",
    "    )\n",
    "    plt.title(\"Helpful Votes vs. Comment Count (Hexbin)\")\n",
    "    plt.xlabel(\"Comment Count\")\n",
    "    plt.ylabel(\"Helpful Votes (votes_up)\")\n",
    "    plt.yscale('log')  # optional\n",
    "    plt.xscale('log')  # optional\n",
    "    plt.colorbar(label='log10(# of points)')  # if bins='log'\n",
    "    plt.tight_layout()\n",
    "    plt.show()\n"
   ]
  },
  {
   "cell_type": "code",
   "execution_count": 2,
   "metadata": {},
   "outputs": [
    {
     "ename": "NameError",
     "evalue": "name 'df_scatter' is not defined",
     "output_type": "error",
     "traceback": [
      "\u001b[31m---------------------------------------------------------------------------\u001b[39m",
      "\u001b[31mNameError\u001b[39m                                 Traceback (most recent call last)",
      "\u001b[36mCell\u001b[39m\u001b[36m \u001b[39m\u001b[32mIn[2]\u001b[39m\u001b[32m, line 1\u001b[39m\n\u001b[32m----> \u001b[39m\u001b[32m1\u001b[39m plot_votes_vs_comments_hex(\u001b[43mdf_scatter\u001b[49m)\n",
      "\u001b[31mNameError\u001b[39m: name 'df_scatter' is not defined"
     ]
    }
   ],
   "source": [
    "\n",
    "\n",
    "plot_votes_vs_comments_hex(df_scatter)\n"
   ]
  }
 ],
 "metadata": {
  "kernelspec": {
   "display_name": ".venv",
   "language": "python",
   "name": "python3"
  },
  "language_info": {
   "codemirror_mode": {
    "name": "ipython",
    "version": 3
   },
   "file_extension": ".py",
   "mimetype": "text/x-python",
   "name": "python",
   "nbconvert_exporter": "python",
   "pygments_lexer": "ipython3",
   "version": "3.13.2"
  }
 },
 "nbformat": 4,
 "nbformat_minor": 2
}
